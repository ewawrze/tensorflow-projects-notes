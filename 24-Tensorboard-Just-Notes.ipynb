{
 "cells": [
  {
   "cell_type": "markdown",
   "metadata": {},
   "source": [
    "\n",
    "# Tensorboard\n",
    "\n",
    "\n",
    "\n",
    "Let's explore the built in data visualization capabilities that come with\n",
    "Tensorboard.\n",
    "\n",
    "Full official tutorial available here: https://www.tensorflow.org/tensorboard/get_started\n",
    "\n",
    "## Data"
   ]
  },
  {
   "cell_type": "code",
   "execution_count": 1,
   "metadata": {},
   "outputs": [],
   "source": [
    "import pandas as pd\n",
    "import numpy as np"
   ]
  },
  {
   "cell_type": "code",
   "execution_count": null,
   "metadata": {},
   "outputs": [],
   "source": [
    "df = pd.read_csv('../DATA/cancer_classification.csv')"
   ]
  },
  {
   "cell_type": "markdown",
   "metadata": {},
   "source": [
    "### Train Test Split"
   ]
  },
  {
   "cell_type": "code",
   "execution_count": null,
   "metadata": {},
   "outputs": [],
   "source": [
    "X = df.drop('benign_0__mal_1',axis=1).values\n",
    "y = df['benign_0__mal_1'].values"
   ]
  },
  {
   "cell_type": "code",
   "execution_count": null,
   "metadata": {},
   "outputs": [],
   "source": [
    "from sklearn.model_selection import train_test_split"
   ]
  },
  {
   "cell_type": "code",
   "execution_count": null,
   "metadata": {},
   "outputs": [],
   "source": [
    "X_train, X_test, y_train, y_test = train_test_split(X,y,test_size=0.25,random_state=101)"
   ]
  },
  {
   "cell_type": "markdown",
   "metadata": {},
   "source": [
    "\n",
    "### Scaling Data"
   ]
  },
  {
   "cell_type": "code",
   "execution_count": null,
   "metadata": {},
   "outputs": [],
   "source": [
    "from sklearn.preprocessing import MinMaxScaler"
   ]
  },
  {
   "cell_type": "code",
   "execution_count": null,
   "metadata": {},
   "outputs": [],
   "source": [
    "scaler = MinMaxScaler()"
   ]
  },
  {
   "cell_type": "code",
   "execution_count": null,
   "metadata": {},
   "outputs": [],
   "source": [
    "scaler.fit(X_train)"
   ]
  },
  {
   "cell_type": "code",
   "execution_count": null,
   "metadata": {},
   "outputs": [],
   "source": [
    "X_train = scaler.transform(X_train)\n",
    "X_test = scaler.transform(X_test)"
   ]
  },
  {
   "cell_type": "markdown",
   "metadata": {},
   "source": [
    "## Creating the Model"
   ]
  },
  {
   "cell_type": "code",
   "execution_count": null,
   "metadata": {},
   "outputs": [],
   "source": [
    "import tensorflow as tf\n",
    "from tensorflow.keras.models import Sequential\n",
    "from tensorflow.keras.layers import Dense, Activation,Dropout"
   ]
  },
  {
   "cell_type": "code",
   "execution_count": 7,
   "metadata": {},
   "outputs": [
    {
     "ename": "ImportError",
     "evalue": "Traceback (most recent call last):\n  File \"c:\\python3x\\lib\\site-packages\\tensorflow\\python\\pywrap_tensorflow.py\", line 58, in <module>\n    from tensorflow.python.pywrap_tensorflow_internal import *\n  File \"c:\\python3x\\lib\\site-packages\\tensorflow\\python\\pywrap_tensorflow_internal.py\", line 28, in <module>\n    _pywrap_tensorflow_internal = swig_import_helper()\n  File \"c:\\python3x\\lib\\site-packages\\tensorflow\\python\\pywrap_tensorflow_internal.py\", line 24, in swig_import_helper\n    _mod = imp.load_module('_pywrap_tensorflow_internal', fp, pathname, description)\n  File \"C:\\python3x\\Lib\\imp.py\", line 242, in load_module\n    return load_dynamic(name, filename, file)\n  File \"C:\\python3x\\Lib\\imp.py\", line 342, in load_dynamic\n    return _load(spec)\nImportError: DLL load failed while importing _pywrap_tensorflow_internal: Procedura inicjowania biblioteki dołączanej dynamicznie (DLL) nie powiodła się.\n\n\nFailed to load the native TensorFlow runtime.\n\nSee https://www.tensorflow.org/install/errors\n\nfor some common reasons and solutions.  Include the entire stack trace\nabove this error message when asking for help.",
     "output_type": "error",
     "traceback": [
      "\u001B[1;31m---------------------------------------------------------------------------\u001B[0m",
      "\u001B[1;31mImportError\u001B[0m                               Traceback (most recent call last)",
      "\u001B[1;32mc:\\python3x\\lib\\site-packages\\tensorflow\\python\\pywrap_tensorflow.py\u001B[0m in \u001B[0;36m<module>\u001B[1;34m\u001B[0m\n\u001B[0;32m     57\u001B[0m \u001B[1;33m\u001B[0m\u001B[0m\n\u001B[1;32m---> 58\u001B[1;33m   \u001B[1;32mfrom\u001B[0m \u001B[0mtensorflow\u001B[0m\u001B[1;33m.\u001B[0m\u001B[0mpython\u001B[0m\u001B[1;33m.\u001B[0m\u001B[0mpywrap_tensorflow_internal\u001B[0m \u001B[1;32mimport\u001B[0m \u001B[1;33m*\u001B[0m\u001B[1;33m\u001B[0m\u001B[1;33m\u001B[0m\u001B[0m\n\u001B[0m\u001B[0;32m     59\u001B[0m \u001B[1;33m\u001B[0m\u001B[0m\n",
      "\u001B[1;32mc:\\python3x\\lib\\site-packages\\tensorflow\\python\\pywrap_tensorflow_internal.py\u001B[0m in \u001B[0;36m<module>\u001B[1;34m\u001B[0m\n\u001B[0;32m     27\u001B[0m             \u001B[1;32mreturn\u001B[0m \u001B[0m_mod\u001B[0m\u001B[1;33m\u001B[0m\u001B[1;33m\u001B[0m\u001B[0m\n\u001B[1;32m---> 28\u001B[1;33m     \u001B[0m_pywrap_tensorflow_internal\u001B[0m \u001B[1;33m=\u001B[0m \u001B[0mswig_import_helper\u001B[0m\u001B[1;33m(\u001B[0m\u001B[1;33m)\u001B[0m\u001B[1;33m\u001B[0m\u001B[1;33m\u001B[0m\u001B[0m\n\u001B[0m\u001B[0;32m     29\u001B[0m     \u001B[1;32mdel\u001B[0m \u001B[0mswig_import_helper\u001B[0m\u001B[1;33m\u001B[0m\u001B[1;33m\u001B[0m\u001B[0m\n",
      "\u001B[1;32mc:\\python3x\\lib\\site-packages\\tensorflow\\python\\pywrap_tensorflow_internal.py\u001B[0m in \u001B[0;36mswig_import_helper\u001B[1;34m()\u001B[0m\n\u001B[0;32m     23\u001B[0m             \u001B[1;32mtry\u001B[0m\u001B[1;33m:\u001B[0m\u001B[1;33m\u001B[0m\u001B[1;33m\u001B[0m\u001B[0m\n\u001B[1;32m---> 24\u001B[1;33m                 \u001B[0m_mod\u001B[0m \u001B[1;33m=\u001B[0m \u001B[0mimp\u001B[0m\u001B[1;33m.\u001B[0m\u001B[0mload_module\u001B[0m\u001B[1;33m(\u001B[0m\u001B[1;34m'_pywrap_tensorflow_internal'\u001B[0m\u001B[1;33m,\u001B[0m \u001B[0mfp\u001B[0m\u001B[1;33m,\u001B[0m \u001B[0mpathname\u001B[0m\u001B[1;33m,\u001B[0m \u001B[0mdescription\u001B[0m\u001B[1;33m)\u001B[0m\u001B[1;33m\u001B[0m\u001B[1;33m\u001B[0m\u001B[0m\n\u001B[0m\u001B[0;32m     25\u001B[0m             \u001B[1;32mfinally\u001B[0m\u001B[1;33m:\u001B[0m\u001B[1;33m\u001B[0m\u001B[1;33m\u001B[0m\u001B[0m\n",
      "\u001B[1;32mC:\\python3x\\Lib\\imp.py\u001B[0m in \u001B[0;36mload_module\u001B[1;34m(name, file, filename, details)\u001B[0m\n\u001B[0;32m    241\u001B[0m         \u001B[1;32melse\u001B[0m\u001B[1;33m:\u001B[0m\u001B[1;33m\u001B[0m\u001B[1;33m\u001B[0m\u001B[0m\n\u001B[1;32m--> 242\u001B[1;33m             \u001B[1;32mreturn\u001B[0m \u001B[0mload_dynamic\u001B[0m\u001B[1;33m(\u001B[0m\u001B[0mname\u001B[0m\u001B[1;33m,\u001B[0m \u001B[0mfilename\u001B[0m\u001B[1;33m,\u001B[0m \u001B[0mfile\u001B[0m\u001B[1;33m)\u001B[0m\u001B[1;33m\u001B[0m\u001B[1;33m\u001B[0m\u001B[0m\n\u001B[0m\u001B[0;32m    243\u001B[0m     \u001B[1;32melif\u001B[0m \u001B[0mtype_\u001B[0m \u001B[1;33m==\u001B[0m \u001B[0mPKG_DIRECTORY\u001B[0m\u001B[1;33m:\u001B[0m\u001B[1;33m\u001B[0m\u001B[1;33m\u001B[0m\u001B[0m\n",
      "\u001B[1;32mC:\\python3x\\Lib\\imp.py\u001B[0m in \u001B[0;36mload_dynamic\u001B[1;34m(name, path, file)\u001B[0m\n\u001B[0;32m    341\u001B[0m             name=name, loader=loader, origin=path)\n\u001B[1;32m--> 342\u001B[1;33m         \u001B[1;32mreturn\u001B[0m \u001B[0m_load\u001B[0m\u001B[1;33m(\u001B[0m\u001B[0mspec\u001B[0m\u001B[1;33m)\u001B[0m\u001B[1;33m\u001B[0m\u001B[1;33m\u001B[0m\u001B[0m\n\u001B[0m\u001B[0;32m    343\u001B[0m \u001B[1;33m\u001B[0m\u001B[0m\n",
      "\u001B[1;31mImportError\u001B[0m: DLL load failed while importing _pywrap_tensorflow_internal: Procedura inicjowania biblioteki dołączanej dynamicznie (DLL) nie powiodła się.",
      "\nDuring handling of the above exception, another exception occurred:\n",
      "\u001B[1;31mImportError\u001B[0m                               Traceback (most recent call last)",
      "\u001B[1;32m<ipython-input-7-7446feed54fa>\u001B[0m in \u001B[0;36m<module>\u001B[1;34m\u001B[0m\n\u001B[1;32m----> 1\u001B[1;33m \u001B[1;32mfrom\u001B[0m \u001B[0mtensorflow\u001B[0m\u001B[1;33m.\u001B[0m\u001B[0mkeras\u001B[0m\u001B[1;33m.\u001B[0m\u001B[0mcallbacks\u001B[0m \u001B[1;32mimport\u001B[0m \u001B[0mEarlyStopping\u001B[0m\u001B[1;33m,\u001B[0m\u001B[0mTensorBoard\u001B[0m\u001B[1;33m\u001B[0m\u001B[1;33m\u001B[0m\u001B[0m\n\u001B[0m\u001B[0;32m      2\u001B[0m \u001B[1;33m\u001B[0m\u001B[0m\n",
      "\u001B[1;32mc:\\python3x\\lib\\site-packages\\tensorflow\\__init__.py\u001B[0m in \u001B[0;36m<module>\u001B[1;34m\u001B[0m\n\u001B[0;32m     39\u001B[0m \u001B[1;32mimport\u001B[0m \u001B[0msys\u001B[0m \u001B[1;32mas\u001B[0m \u001B[0m_sys\u001B[0m\u001B[1;33m\u001B[0m\u001B[1;33m\u001B[0m\u001B[0m\n\u001B[0;32m     40\u001B[0m \u001B[1;33m\u001B[0m\u001B[0m\n\u001B[1;32m---> 41\u001B[1;33m \u001B[1;32mfrom\u001B[0m \u001B[0mtensorflow\u001B[0m\u001B[1;33m.\u001B[0m\u001B[0mpython\u001B[0m\u001B[1;33m.\u001B[0m\u001B[0mtools\u001B[0m \u001B[1;32mimport\u001B[0m \u001B[0mmodule_util\u001B[0m \u001B[1;32mas\u001B[0m \u001B[0m_module_util\u001B[0m\u001B[1;33m\u001B[0m\u001B[1;33m\u001B[0m\u001B[0m\n\u001B[0m\u001B[0;32m     42\u001B[0m \u001B[1;32mfrom\u001B[0m \u001B[0mtensorflow\u001B[0m\u001B[1;33m.\u001B[0m\u001B[0mpython\u001B[0m\u001B[1;33m.\u001B[0m\u001B[0mutil\u001B[0m\u001B[1;33m.\u001B[0m\u001B[0mlazy_loader\u001B[0m \u001B[1;32mimport\u001B[0m \u001B[0mLazyLoader\u001B[0m \u001B[1;32mas\u001B[0m \u001B[0m_LazyLoader\u001B[0m\u001B[1;33m\u001B[0m\u001B[1;33m\u001B[0m\u001B[0m\n\u001B[0;32m     43\u001B[0m \u001B[1;33m\u001B[0m\u001B[0m\n",
      "\u001B[1;32mc:\\python3x\\lib\\site-packages\\tensorflow\\python\\__init__.py\u001B[0m in \u001B[0;36m<module>\u001B[1;34m\u001B[0m\n\u001B[0;32m     48\u001B[0m \u001B[1;32mimport\u001B[0m \u001B[0mnumpy\u001B[0m \u001B[1;32mas\u001B[0m \u001B[0mnp\u001B[0m\u001B[1;33m\u001B[0m\u001B[1;33m\u001B[0m\u001B[0m\n\u001B[0;32m     49\u001B[0m \u001B[1;33m\u001B[0m\u001B[0m\n\u001B[1;32m---> 50\u001B[1;33m \u001B[1;32mfrom\u001B[0m \u001B[0mtensorflow\u001B[0m\u001B[1;33m.\u001B[0m\u001B[0mpython\u001B[0m \u001B[1;32mimport\u001B[0m \u001B[0mpywrap_tensorflow\u001B[0m\u001B[1;33m\u001B[0m\u001B[1;33m\u001B[0m\u001B[0m\n\u001B[0m\u001B[0;32m     51\u001B[0m \u001B[1;33m\u001B[0m\u001B[0m\n\u001B[0;32m     52\u001B[0m \u001B[1;31m# Protocol buffers\u001B[0m\u001B[1;33m\u001B[0m\u001B[1;33m\u001B[0m\u001B[1;33m\u001B[0m\u001B[0m\n",
      "\u001B[1;32mc:\\python3x\\lib\\site-packages\\tensorflow\\python\\pywrap_tensorflow.py\u001B[0m in \u001B[0;36m<module>\u001B[1;34m\u001B[0m\n\u001B[0;32m     67\u001B[0m \u001B[1;32mfor\u001B[0m \u001B[0msome\u001B[0m \u001B[0mcommon\u001B[0m \u001B[0mreasons\u001B[0m \u001B[1;32mand\u001B[0m \u001B[0msolutions\u001B[0m\u001B[1;33m.\u001B[0m  \u001B[0mInclude\u001B[0m \u001B[0mthe\u001B[0m \u001B[0mentire\u001B[0m \u001B[0mstack\u001B[0m \u001B[0mtrace\u001B[0m\u001B[1;33m\u001B[0m\u001B[1;33m\u001B[0m\u001B[0m\n\u001B[0;32m     68\u001B[0m above this error message when asking for help.\"\"\" % traceback.format_exc()\n\u001B[1;32m---> 69\u001B[1;33m   \u001B[1;32mraise\u001B[0m \u001B[0mImportError\u001B[0m\u001B[1;33m(\u001B[0m\u001B[0mmsg\u001B[0m\u001B[1;33m)\u001B[0m\u001B[1;33m\u001B[0m\u001B[1;33m\u001B[0m\u001B[0m\n\u001B[0m\u001B[0;32m     70\u001B[0m \u001B[1;33m\u001B[0m\u001B[0m\n\u001B[0;32m     71\u001B[0m \u001B[1;31m# pylint: enable=wildcard-import,g-import-not-at-top,unused-import,line-too-long\u001B[0m\u001B[1;33m\u001B[0m\u001B[1;33m\u001B[0m\u001B[1;33m\u001B[0m\u001B[0m\n",
      "\u001B[1;31mImportError\u001B[0m: Traceback (most recent call last):\n  File \"c:\\python3x\\lib\\site-packages\\tensorflow\\python\\pywrap_tensorflow.py\", line 58, in <module>\n    from tensorflow.python.pywrap_tensorflow_internal import *\n  File \"c:\\python3x\\lib\\site-packages\\tensorflow\\python\\pywrap_tensorflow_internal.py\", line 28, in <module>\n    _pywrap_tensorflow_internal = swig_import_helper()\n  File \"c:\\python3x\\lib\\site-packages\\tensorflow\\python\\pywrap_tensorflow_internal.py\", line 24, in swig_import_helper\n    _mod = imp.load_module('_pywrap_tensorflow_internal', fp, pathname, description)\n  File \"C:\\python3x\\Lib\\imp.py\", line 242, in load_module\n    return load_dynamic(name, filename, file)\n  File \"C:\\python3x\\Lib\\imp.py\", line 342, in load_dynamic\n    return _load(spec)\nImportError: DLL load failed while importing _pywrap_tensorflow_internal: Procedura inicjowania biblioteki dołączanej dynamicznie (DLL) nie powiodła się.\n\n\nFailed to load the native TensorFlow runtime.\n\nSee https://www.tensorflow.org/install/errors\n\nfor some common reasons and solutions.  Include the entire stack trace\nabove this error message when asking for help."
     ]
    }
   ],
   "source": [
    "from tensorflow.keras.callbacks import EarlyStopping,TensorBoard"
   ]
  },
  {
   "cell_type": "code",
   "execution_count": null,
   "metadata": {},
   "outputs": [],
   "source": [
    "early_stop = EarlyStopping(monitor='val_loss', mode='min', verbose=1, patience=25)"
   ]
  },
  {
   "cell_type": "code",
   "execution_count": 8,
   "metadata": {},
   "outputs": [
    {
     "ename": "NameError",
     "evalue": "name 'pwd' is not defined",
     "output_type": "error",
     "traceback": [
      "\u001B[1;31m---------------------------------------------------------------------------\u001B[0m",
      "\u001B[1;31mNameError\u001B[0m                                 Traceback (most recent call last)",
      "\u001B[1;32m<ipython-input-8-0c368cba2f3d>\u001B[0m in \u001B[0;36m<module>\u001B[1;34m\u001B[0m\n\u001B[1;32m----> 1\u001B[1;33m \u001B[0mprint\u001B[0m\u001B[1;33m(\u001B[0m\u001B[0mpwd\u001B[0m\u001B[1;33m)\u001B[0m\u001B[1;33m\u001B[0m\u001B[1;33m\u001B[0m\u001B[0m\n\u001B[0m\u001B[0;32m      2\u001B[0m \u001B[1;33m\u001B[0m\u001B[0m\n",
      "\u001B[1;31mNameError\u001B[0m: name 'pwd' is not defined"
     ]
    }
   ],
   "source": [
    "print(pwd)"
   ]
  },
  {
   "cell_type": "markdown",
   "metadata": {},
   "source": [
    "## Creating the Tensorboard Callback\n",
    "\n",
    "TensorBoard is a visualization tool provided with TensorFlow.\n",
    "\n",
    "This callback logs events for TensorBoard, including:\n",
    "* Metrics summary plots\n",
    "* Training graph visualization\n",
    "* Activation histograms\n",
    "* Sampled profiling\n",
    "\n",
    "If you have installed TensorFlow with pip, you should be able\n",
    "to launch TensorBoard from the command line:\n",
    "\n",
    "```sh\n",
    "tensorboard --logdir=path_to_your_logs\n",
    "```\n",
    "\n",
    "You can find more information about TensorBoard\n",
    "[here](https://www.tensorflow.org/tensorboard/).\n",
    "\n",
    "    Arguments:\n",
    "        log_dir: the path of the directory where to save the log files to be\n",
    "          parsed by TensorBoard.\n",
    "        histogram_freq: frequency (in epochs) at which to compute activation and\n",
    "          weight histograms for the layers of the model. If set to 0, histograms\n",
    "          won't be computed. Validation data (or split) must be specified for\n",
    "          histogram visualizations.\n",
    "        write_graph: whether to visualize the graph in TensorBoard. The log file\n",
    "          can become quite large when write_graph is set to True.\n",
    "        write_images: whether to write model weights to visualize as image in\n",
    "          TensorBoard.\n",
    "        update_freq: `'batch'` or `'epoch'` or integer. When using `'batch'`,\n",
    "          writes the losses and metrics to TensorBoard after each batch. The same\n",
    "          applies for `'epoch'`. If using an integer, let's say `1000`, the\n",
    "          callback will write the metrics and losses to TensorBoard every 1000\n",
    "          samples. Note that writing too frequently to TensorBoard can slow down\n",
    "          your training.\n",
    "        profile_batch: Profile the batch to sample compute characteristics. By\n",
    "          default, it will profile the second batch. Set profile_batch=0 to\n",
    "          disable profiling. Must run in TensorFlow eager mode.\n",
    "        embeddings_freq: frequency (in epochs) at which embedding layers will\n",
    "          be visualized. If set to 0, embeddings won't be visualized.\n",
    "       "
   ]
  },
  {
   "cell_type": "code",
   "execution_count": 14,
   "metadata": {},
   "outputs": [],
   "source": [
    "from datetime import datetime"
   ]
  },
  {
   "cell_type": "code",
   "execution_count": 15,
   "metadata": {},
   "outputs": [
    {
     "data": {
      "text/plain": [
       "'2019-11-14--1910'"
      ]
     },
     "execution_count": 15,
     "metadata": {},
     "output_type": "execute_result"
    }
   ],
   "source": [
    "datetime.now().strftime(\"%Y-%m-%d--%H%M\")"
   ]
  },
  {
   "cell_type": "code",
   "execution_count": 16,
   "metadata": {},
   "outputs": [],
   "source": [
    "# WINDOWS: Use \"logs\\\\fit\"\n",
    "# MACOS/LINUX: Use \"logs\\fit\"\n",
    "\n",
    "log_directory = 'logs\\\\fit'\n",
    "\n",
    "# OPTIONAL: ADD A TIMESTAMP FOR UNIQUE FOLDER\n",
    "# timestamp = datetime.now().strftime(\"%Y-%m-%d--%H%M\")\n",
    "# log_directory = log_directory + '\\\\' + timestamp\n",
    "\n",
    "\n",
    "board = TensorBoard(log_dir=log_directory,histogram_freq=1,\n",
    "    write_graph=True,\n",
    "    write_images=True,\n",
    "    update_freq='epoch',\n",
    "    profile_batch=2,\n",
    "    embeddings_freq=1)"
   ]
  },
  {
   "cell_type": "markdown",
   "metadata": {},
   "source": [
    "Now create the model layers:"
   ]
  },
  {
   "cell_type": "code",
   "execution_count": 17,
   "metadata": {},
   "outputs": [],
   "source": [
    "model = Sequential()\n",
    "model.add(Dense(units=30,activation='relu'))\n",
    "model.add(Dropout(0.5))\n",
    "model.add(Dense(units=15,activation='relu'))\n",
    "model.add(Dropout(0.5))\n",
    "model.add(Dense(units=1,activation='sigmoid'))\n",
    "model.compile(loss='binary_crossentropy', optimizer='adam')"
   ]
  },
  {
   "cell_type": "markdown",
   "metadata": {},
   "source": [
    "## Train the Model"
   ]
  },
  {
   "cell_type": "code",
   "execution_count": 18,
   "metadata": {},
   "outputs": [
    {
     "name": "stdout",
     "output_type": "stream",
     "text": [
      "Train on 426 samples, validate on 143 samples\n",
      "Epoch 1/600\n",
      "426/426 [==============================] - 1s 2ms/sample - loss: 0.7070 - val_loss: 0.6751\n",
      "Epoch 2/600\n",
      "426/426 [==============================] - 0s 204us/sample - loss: 0.6647 - val_loss: 0.6547\n",
      "Epoch 3/600\n",
      "426/426 [==============================] - 0s 192us/sample - loss: 0.6735 - val_loss: 0.6312\n",
      "Epoch 4/600\n",
      "426/426 [==============================] - 0s 194us/sample - loss: 0.6284 - val_loss: 0.6052\n",
      "Epoch 5/600\n",
      "426/426 [==============================] - 0s 208us/sample - loss: 0.6023 - val_loss: 0.5716\n",
      "Epoch 6/600\n",
      "426/426 [==============================] - 0s 191us/sample - loss: 0.5939 - val_loss: 0.5454\n",
      "Epoch 7/600\n",
      "426/426 [==============================] - 0s 189us/sample - loss: 0.5745 - val_loss: 0.5210\n",
      "Epoch 8/600\n",
      "426/426 [==============================] - 0s 214us/sample - loss: 0.5402 - val_loss: 0.4942\n",
      "Epoch 9/600\n",
      "426/426 [==============================] - 0s 206us/sample - loss: 0.5410 - val_loss: 0.4676\n",
      "Epoch 10/600\n",
      "426/426 [==============================] - 0s 195us/sample - loss: 0.5075 - val_loss: 0.4402\n",
      "Epoch 11/600\n",
      "426/426 [==============================] - 0s 198us/sample - loss: 0.4726 - val_loss: 0.4098\n",
      "Epoch 12/600\n",
      "426/426 [==============================] - 0s 204us/sample - loss: 0.4418 - val_loss: 0.3778\n",
      "Epoch 13/600\n",
      "426/426 [==============================] - 0s 201us/sample - loss: 0.4381 - val_loss: 0.3497\n",
      "Epoch 14/600\n",
      "426/426 [==============================] - 0s 201us/sample - loss: 0.4192 - val_loss: 0.3232\n",
      "Epoch 15/600\n",
      "426/426 [==============================] - 0s 204us/sample - loss: 0.4235 - val_loss: 0.3065\n",
      "Epoch 16/600\n",
      "426/426 [==============================] - 0s 192us/sample - loss: 0.3875 - val_loss: 0.2917\n",
      "Epoch 17/600\n",
      "426/426 [==============================] - 0s 197us/sample - loss: 0.3904 - val_loss: 0.2776\n",
      "Epoch 18/600\n",
      "426/426 [==============================] - 0s 194us/sample - loss: 0.3685 - val_loss: 0.2645\n",
      "Epoch 19/600\n",
      "426/426 [==============================] - 0s 197us/sample - loss: 0.3247 - val_loss: 0.2463\n",
      "Epoch 20/600\n",
      "426/426 [==============================] - 0s 199us/sample - loss: 0.3428 - val_loss: 0.2332\n",
      "Epoch 21/600\n",
      "426/426 [==============================] - 0s 199us/sample - loss: 0.3435 - val_loss: 0.2247\n",
      "Epoch 22/600\n",
      "426/426 [==============================] - 0s 200us/sample - loss: 0.3304 - val_loss: 0.2188\n",
      "Epoch 23/600\n",
      "426/426 [==============================] - 0s 195us/sample - loss: 0.3187 - val_loss: 0.2071\n",
      "Epoch 24/600\n",
      "426/426 [==============================] - 0s 195us/sample - loss: 0.2977 - val_loss: 0.1962\n",
      "Epoch 25/600\n",
      "426/426 [==============================] - 0s 213us/sample - loss: 0.2878 - val_loss: 0.1892\n",
      "Epoch 26/600\n",
      "426/426 [==============================] - 0s 186us/sample - loss: 0.2792 - val_loss: 0.1797\n",
      "Epoch 27/600\n",
      "426/426 [==============================] - 0s 189us/sample - loss: 0.2689 - val_loss: 0.1738\n",
      "Epoch 28/600\n",
      "426/426 [==============================] - 0s 197us/sample - loss: 0.2746 - val_loss: 0.1703\n",
      "Epoch 29/600\n",
      "426/426 [==============================] - 0s 201us/sample - loss: 0.2929 - val_loss: 0.1692\n",
      "Epoch 30/600\n",
      "426/426 [==============================] - 0s 215us/sample - loss: 0.2652 - val_loss: 0.1650\n",
      "Epoch 31/600\n",
      "426/426 [==============================] - 0s 213us/sample - loss: 0.2448 - val_loss: 0.1558\n",
      "Epoch 32/600\n",
      "426/426 [==============================] - 0s 188us/sample - loss: 0.2658 - val_loss: 0.1566\n",
      "Epoch 33/600\n",
      "426/426 [==============================] - 0s 210us/sample - loss: 0.2486 - val_loss: 0.1520\n",
      "Epoch 34/600\n",
      "426/426 [==============================] - 0s 206us/sample - loss: 0.2584 - val_loss: 0.1507\n",
      "Epoch 35/600\n",
      "426/426 [==============================] - 0s 190us/sample - loss: 0.2284 - val_loss: 0.1541\n",
      "Epoch 36/600\n",
      "426/426 [==============================] - 0s 190us/sample - loss: 0.2294 - val_loss: 0.1380\n",
      "Epoch 37/600\n",
      "426/426 [==============================] - 0s 185us/sample - loss: 0.2064 - val_loss: 0.1336\n",
      "Epoch 38/600\n",
      "426/426 [==============================] - 0s 189us/sample - loss: 0.2345 - val_loss: 0.1343\n",
      "Epoch 39/600\n",
      "426/426 [==============================] - 0s 188us/sample - loss: 0.2043 - val_loss: 0.1335\n",
      "Epoch 40/600\n",
      "426/426 [==============================] - 0s 189us/sample - loss: 0.1871 - val_loss: 0.1249\n",
      "Epoch 41/600\n",
      "426/426 [==============================] - 0s 184us/sample - loss: 0.1756 - val_loss: 0.1215\n",
      "Epoch 42/600\n",
      "426/426 [==============================] - 0s 185us/sample - loss: 0.1986 - val_loss: 0.1194\n",
      "Epoch 43/600\n",
      "426/426 [==============================] - 0s 183us/sample - loss: 0.2050 - val_loss: 0.1209\n",
      "Epoch 44/600\n",
      "426/426 [==============================] - 0s 183us/sample - loss: 0.1964 - val_loss: 0.1219\n",
      "Epoch 45/600\n",
      "426/426 [==============================] - 0s 187us/sample - loss: 0.1825 - val_loss: 0.1156\n",
      "Epoch 46/600\n",
      "426/426 [==============================] - 0s 206us/sample - loss: 0.1911 - val_loss: 0.1127\n",
      "Epoch 47/600\n",
      "426/426 [==============================] - 0s 220us/sample - loss: 0.1897 - val_loss: 0.1142\n",
      "Epoch 48/600\n",
      "426/426 [==============================] - 0s 227us/sample - loss: 0.1811 - val_loss: 0.1122\n",
      "Epoch 49/600\n",
      "426/426 [==============================] - 0s 187us/sample - loss: 0.1799 - val_loss: 0.1070\n",
      "Epoch 50/600\n",
      "426/426 [==============================] - 0s 194us/sample - loss: 0.1737 - val_loss: 0.1111\n",
      "Epoch 51/600\n",
      "426/426 [==============================] - 0s 183us/sample - loss: 0.1821 - val_loss: 0.1162\n",
      "Epoch 52/600\n",
      "426/426 [==============================] - 0s 187us/sample - loss: 0.1623 - val_loss: 0.1014\n",
      "Epoch 53/600\n",
      "426/426 [==============================] - 0s 193us/sample - loss: 0.1563 - val_loss: 0.0996\n",
      "Epoch 54/600\n",
      "426/426 [==============================] - 0s 186us/sample - loss: 0.1674 - val_loss: 0.1011\n",
      "Epoch 55/600\n",
      "426/426 [==============================] - 0s 187us/sample - loss: 0.1621 - val_loss: 0.1030\n",
      "Epoch 56/600\n",
      "426/426 [==============================] - 0s 187us/sample - loss: 0.1833 - val_loss: 0.1028\n",
      "Epoch 57/600\n",
      "426/426 [==============================] - 0s 205us/sample - loss: 0.1428 - val_loss: 0.1005\n",
      "Epoch 58/600\n",
      "426/426 [==============================] - 0s 202us/sample - loss: 0.1285 - val_loss: 0.0996\n",
      "Epoch 59/600\n",
      "426/426 [==============================] - 0s 195us/sample - loss: 0.1368 - val_loss: 0.1043\n",
      "Epoch 60/600\n",
      "426/426 [==============================] - 0s 190us/sample - loss: 0.1675 - val_loss: 0.0966\n",
      "Epoch 61/600\n",
      "426/426 [==============================] - 0s 186us/sample - loss: 0.1635 - val_loss: 0.0933\n",
      "Epoch 62/600\n",
      "426/426 [==============================] - 0s 191us/sample - loss: 0.1388 - val_loss: 0.1001\n",
      "Epoch 63/600\n",
      "426/426 [==============================] - 0s 204us/sample - loss: 0.1271 - val_loss: 0.0933\n",
      "Epoch 64/600\n",
      "426/426 [==============================] - 0s 204us/sample - loss: 0.1295 - val_loss: 0.0911\n",
      "Epoch 65/600\n",
      "426/426 [==============================] - 0s 204us/sample - loss: 0.1386 - val_loss: 0.0917\n",
      "Epoch 66/600\n",
      "426/426 [==============================] - 0s 189us/sample - loss: 0.1327 - val_loss: 0.0955\n",
      "Epoch 67/600\n",
      "426/426 [==============================] - 0s 187us/sample - loss: 0.1420 - val_loss: 0.1101\n",
      "Epoch 68/600\n",
      "426/426 [==============================] - 0s 191us/sample - loss: 0.1181 - val_loss: 0.0886\n",
      "Epoch 69/600\n",
      "426/426 [==============================] - 0s 190us/sample - loss: 0.1318 - val_loss: 0.0920\n",
      "Epoch 70/600\n",
      "426/426 [==============================] - 0s 196us/sample - loss: 0.1278 - val_loss: 0.1064\n",
      "Epoch 71/600\n",
      "426/426 [==============================] - 0s 205us/sample - loss: 0.1161 - val_loss: 0.0901\n",
      "Epoch 72/600\n",
      "426/426 [==============================] - 0s 191us/sample - loss: 0.1431 - val_loss: 0.0856\n",
      "Epoch 73/600\n",
      "426/426 [==============================] - 0s 189us/sample - loss: 0.1312 - val_loss: 0.0857\n",
      "Epoch 74/600\n",
      "426/426 [==============================] - 0s 187us/sample - loss: 0.1042 - val_loss: 0.0957\n",
      "Epoch 75/600\n",
      "426/426 [==============================] - 0s 184us/sample - loss: 0.1368 - val_loss: 0.0810\n",
      "Epoch 76/600\n",
      "426/426 [==============================] - 0s 190us/sample - loss: 0.1294 - val_loss: 0.0955\n",
      "Epoch 77/600\n",
      "426/426 [==============================] - 0s 193us/sample - loss: 0.1278 - val_loss: 0.0894\n"
     ]
    },
    {
     "name": "stdout",
     "output_type": "stream",
     "text": [
      "Epoch 78/600\n",
      "426/426 [==============================] - 0s 185us/sample - loss: 0.1362 - val_loss: 0.0830\n",
      "Epoch 79/600\n",
      "426/426 [==============================] - 0s 183us/sample - loss: 0.1220 - val_loss: 0.0884\n",
      "Epoch 80/600\n",
      "426/426 [==============================] - 0s 208us/sample - loss: 0.1277 - val_loss: 0.0870\n",
      "Epoch 81/600\n",
      "426/426 [==============================] - 0s 219us/sample - loss: 0.1055 - val_loss: 0.0879\n",
      "Epoch 82/600\n",
      "426/426 [==============================] - 0s 215us/sample - loss: 0.1111 - val_loss: 0.0882\n",
      "Epoch 83/600\n",
      "426/426 [==============================] - 0s 188us/sample - loss: 0.0943 - val_loss: 0.0930\n",
      "Epoch 84/600\n",
      "426/426 [==============================] - 0s 191us/sample - loss: 0.1182 - val_loss: 0.0827\n",
      "Epoch 85/600\n",
      "426/426 [==============================] - 0s 187us/sample - loss: 0.1070 - val_loss: 0.0861\n",
      "Epoch 86/600\n",
      "426/426 [==============================] - 0s 181us/sample - loss: 0.1110 - val_loss: 0.1013\n",
      "Epoch 87/600\n",
      "426/426 [==============================] - 0s 184us/sample - loss: 0.1113 - val_loss: 0.0903\n",
      "Epoch 88/600\n",
      "426/426 [==============================] - 0s 185us/sample - loss: 0.1279 - val_loss: 0.0815\n",
      "Epoch 89/600\n",
      "426/426 [==============================] - 0s 190us/sample - loss: 0.0966 - val_loss: 0.0841\n",
      "Epoch 90/600\n",
      "426/426 [==============================] - 0s 206us/sample - loss: 0.1232 - val_loss: 0.0890\n",
      "Epoch 91/600\n",
      "426/426 [==============================] - 0s 205us/sample - loss: 0.1026 - val_loss: 0.0828\n",
      "Epoch 92/600\n",
      "426/426 [==============================] - 0s 190us/sample - loss: 0.0941 - val_loss: 0.0816\n",
      "Epoch 93/600\n",
      "426/426 [==============================] - 0s 187us/sample - loss: 0.1079 - val_loss: 0.0825\n",
      "Epoch 94/600\n",
      "426/426 [==============================] - 0s 186us/sample - loss: 0.1020 - val_loss: 0.0822\n",
      "Epoch 95/600\n",
      "426/426 [==============================] - 0s 187us/sample - loss: 0.1092 - val_loss: 0.0814\n",
      "Epoch 96/600\n",
      "426/426 [==============================] - 0s 184us/sample - loss: 0.1014 - val_loss: 0.0919\n",
      "Epoch 97/600\n",
      "426/426 [==============================] - 0s 197us/sample - loss: 0.1086 - val_loss: 0.0794\n",
      "Epoch 98/600\n",
      "426/426 [==============================] - 0s 199us/sample - loss: 0.1320 - val_loss: 0.0860\n",
      "Epoch 99/600\n",
      "426/426 [==============================] - 0s 211us/sample - loss: 0.0911 - val_loss: 0.0830\n",
      "Epoch 100/600\n",
      "426/426 [==============================] - 0s 182us/sample - loss: 0.1131 - val_loss: 0.0806\n",
      "Epoch 101/600\n",
      "426/426 [==============================] - 0s 205us/sample - loss: 0.1114 - val_loss: 0.0965\n",
      "Epoch 102/600\n",
      "426/426 [==============================] - 0s 201us/sample - loss: 0.0980 - val_loss: 0.0843\n",
      "Epoch 103/600\n",
      "426/426 [==============================] - 0s 199us/sample - loss: 0.1048 - val_loss: 0.0894\n",
      "Epoch 104/600\n",
      "426/426 [==============================] - 0s 187us/sample - loss: 0.0930 - val_loss: 0.0842\n",
      "Epoch 105/600\n",
      "426/426 [==============================] - 0s 188us/sample - loss: 0.1038 - val_loss: 0.0909\n",
      "Epoch 106/600\n",
      "426/426 [==============================] - 0s 184us/sample - loss: 0.0891 - val_loss: 0.0971\n",
      "Epoch 107/600\n",
      "426/426 [==============================] - 0s 187us/sample - loss: 0.0936 - val_loss: 0.0993\n",
      "Epoch 108/600\n",
      "426/426 [==============================] - 0s 183us/sample - loss: 0.1042 - val_loss: 0.0891\n",
      "Epoch 109/600\n",
      "426/426 [==============================] - 0s 196us/sample - loss: 0.1030 - val_loss: 0.0905\n",
      "Epoch 110/600\n",
      "426/426 [==============================] - 0s 190us/sample - loss: 0.0995 - val_loss: 0.0979\n",
      "Epoch 111/600\n",
      "426/426 [==============================] - 0s 187us/sample - loss: 0.1167 - val_loss: 0.0841\n",
      "Epoch 112/600\n",
      "426/426 [==============================] - 0s 189us/sample - loss: 0.1109 - val_loss: 0.0885\n",
      "Epoch 113/600\n",
      "426/426 [==============================] - 0s 186us/sample - loss: 0.0932 - val_loss: 0.0910\n",
      "Epoch 114/600\n",
      "426/426 [==============================] - 0s 194us/sample - loss: 0.1033 - val_loss: 0.0810\n",
      "Epoch 115/600\n",
      "426/426 [==============================] - 0s 213us/sample - loss: 0.1060 - val_loss: 0.0949\n",
      "Epoch 116/600\n",
      "426/426 [==============================] - 0s 209us/sample - loss: 0.0875 - val_loss: 0.0854\n",
      "Epoch 117/600\n",
      "426/426 [==============================] - 0s 198us/sample - loss: 0.1012 - val_loss: 0.0817\n",
      "Epoch 118/600\n",
      "426/426 [==============================] - 0s 189us/sample - loss: 0.1111 - val_loss: 0.0824\n",
      "Epoch 119/600\n",
      "426/426 [==============================] - 0s 185us/sample - loss: 0.0826 - val_loss: 0.0839\n",
      "Epoch 120/600\n",
      "426/426 [==============================] - 0s 188us/sample - loss: 0.0872 - val_loss: 0.0863\n",
      "Epoch 121/600\n",
      "426/426 [==============================] - 0s 186us/sample - loss: 0.0739 - val_loss: 0.0921\n",
      "Epoch 122/600\n",
      "426/426 [==============================] - 0s 184us/sample - loss: 0.1086 - val_loss: 0.0857\n",
      "Epoch 00122: early stopping\n"
     ]
    },
    {
     "data": {
      "text/plain": [
       "<tensorflow.python.keras.callbacks.History at 0x1b1f2eb3788>"
      ]
     },
     "execution_count": 18,
     "metadata": {},
     "output_type": "execute_result"
    }
   ],
   "source": [
    "model.fit(x=X_train, \n",
    "          y=y_train, \n",
    "          epochs=600,\n",
    "          validation_data=(X_test, y_test), verbose=1,\n",
    "          callbacks=[early_stop,board]\n",
    "          )"
   ]
  },
  {
   "cell_type": "markdown",
   "metadata": {},
   "source": [
    "# Running Tensorboard\n"
   ]
  },
  {
   "cell_type": "markdown",
   "metadata": {},
   "source": [
    "## Running through the Command Line\n",
    "\n",
    "**Watch video to see how to run Tensorboard through a command line call.**"
   ]
  },
  {
   "cell_type": "markdown",
   "metadata": {},
   "source": [
    "Tensorboard will run locally in your browser at [http://localhost:6006/](http://localhost:6006/)\n"
   ]
  },
  {
   "cell_type": "code",
   "execution_count": 19,
   "metadata": {},
   "outputs": [
    {
     "name": "stdout",
     "output_type": "stream",
     "text": [
      "logs\\fit\n"
     ]
    }
   ],
   "source": [
    "print(log_directory)"
   ]
  },
  {
   "cell_type": "code",
   "execution_count": 20,
   "metadata": {},
   "outputs": [
    {
     "data": {
      "text/plain": [
       "'C:\\\\Users\\\\Marcial\\\\Pierian-Data-Courses\\\\TensorFlow-Two-Bootcamp\\\\03-ANNs'"
      ]
     },
     "execution_count": 20,
     "metadata": {},
     "output_type": "execute_result"
    }
   ],
   "source": [
    "pwd"
   ]
  },
  {
   "cell_type": "markdown",
   "metadata": {},
   "source": [
    "### Use cd at your command line to change directory to the file path reported back by pwd or your current .py file location.\n",
    "### Then run this code at your command line or terminal"
   ]
  },
  {
   "cell_type": "code",
   "execution_count": null,
   "metadata": {},
   "outputs": [],
   "source": [
    "tensorboard --logdir logs\\fit "
   ]
  }
 ],
 "metadata": {
  "kernelspec": {
   "display_name": "Python 3",
   "language": "python",
   "name": "python3"
  },
  "language_info": {
   "codemirror_mode": {
    "name": "ipython",
    "version": 3
   },
   "file_extension": ".py",
   "mimetype": "text/x-python",
   "name": "python",
   "nbconvert_exporter": "python",
   "pygments_lexer": "ipython3",
   "version": "3.7.4"
  }
 },
 "nbformat": 4,
 "nbformat_minor": 2
}